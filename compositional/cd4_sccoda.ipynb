{
 "cells": [
  {
   "cell_type": "markdown",
   "id": "0baba706",
   "metadata": {},
   "source": [
    "## Compositional analysis"
   ]
  },
  {
   "cell_type": "markdown",
   "id": "039ad847",
   "metadata": {},
   "source": [
    "This script is to run scCODA on our CD4 T cells.\n",
    "\n",
    "__author__ = \"Ciro Ramírez-Suástegui\"\n",
    "\n",
    "__copyright__ = \"Copyright 2022-07-01, La Jolla Institute for Immunology\"\n",
    "\n",
    "__license__ = \"GPL\"\n",
    "\n",
    "__version__ = \"0.0.9\"\n",
    "\n",
    "__maintainer__ = \"La Jolla Institute for Immunology\"\n",
    "\n",
    "__email__ = \"ciro@lji.org, cramsuig@gmail.com\"\n",
    "\n",
    "__status__ = \"Prototype\""
   ]
  },
  {
   "cell_type": "markdown",
   "id": "88254d65",
   "metadata": {},
   "source": [
    "### Environment setup"
   ]
  },
  {
   "cell_type": "code",
   "execution_count": 1,
   "id": "6c907efb",
   "metadata": {},
   "outputs": [],
   "source": [
    "# basic modules\n",
    "import os, re, time, importlib\n",
    "import sys, warnings\n",
    "warnings.simplefilter(action='ignore', category=FutureWarning)\n",
    "warnings.simplefilter(action='ignore', category=UserWarning)\n",
    "from IPython.display import clear_output"
   ]
  },
  {
   "cell_type": "code",
   "execution_count": 2,
   "id": "4015ffb1",
   "metadata": {
    "scrolled": true,
    "tags": []
   },
   "outputs": [
    {
     "name": "stderr",
     "output_type": "stream",
     "text": [
      "2022-07-05 14:12:12.491604: W tensorflow/stream_executor/platform/default/dso_loader.cc:64] Could not load dynamic library 'libcudart.so.11.0'; dlerror: libcudart.so.11.0: cannot open shared object file: No such file or directory; LD_LIBRARY_PATH: :/share/apps/gcc/6.3/lib64:/share/apps/libs/boost/boost_1_63_0/lib:/share/apps/moab/lib:/share/apps/openmpi/4.0.3/lib:/mnt/BioHome/ciro/bin/fftw-3.3.8\n",
      "2022-07-05 14:12:12.491677: I tensorflow/stream_executor/cuda/cudart_stub.cc:29] Ignore above cudart dlerror if you do not have a GPU set up on your machine.\n"
     ]
    },
    {
     "name": "stdout",
     "output_type": "stream",
     "text": [
      "-----\n",
      "anndata     0.8.0\n",
      "scanpy      1.9.1\n",
      "-----\n",
      "PIL                                         9.2.0\n",
      "aa8f2297d25b4dc6fd3d98411eb3ba53823c4f42    NA\n",
      "absl                                        NA\n",
      "arviz                                       0.12.1\n",
      "asttokens                                   NA\n",
      "astunparse                                  1.6.3\n",
      "backcall                                    0.2.0\n",
      "beta_ufunc                                  NA\n",
      "binom_ufunc                                 NA\n",
      "certifi                                     2022.06.15\n",
      "cffi                                        1.15.1\n",
      "cftime                                      1.6.1\n",
      "charset_normalizer                          2.1.0\n",
      "cloudpickle                                 2.1.0\n",
      "cycler                                      0.10.0\n",
      "cython_runtime                              NA\n",
      "dateutil                                    2.8.2\n",
      "debugpy                                     1.6.0\n",
      "decorator                                   5.1.1\n",
      "defusedxml                                  0.7.1\n",
      "entrypoints                                 0.4\n",
      "executing                                   0.8.3\n",
      "flatbuffers                                 NA\n",
      "gast                                        NA\n",
      "google                                      NA\n",
      "h5py                                        3.7.0\n",
      "hypergeom_ufunc                             NA\n",
      "idna                                        3.3\n",
      "ipykernel                                   6.15.0\n",
      "ipython_genutils                            0.2.0\n",
      "jedi                                        0.18.1\n",
      "joblib                                      1.1.0\n",
      "jupyter_server                              1.18.0\n",
      "keras                                       2.9.0\n",
      "kiwisolver                                  1.4.3\n",
      "llvmlite                                    0.38.1\n",
      "matplotlib                                  3.5.2\n",
      "mpl_toolkits                                NA\n",
      "natsort                                     8.1.0\n",
      "nbinom_ufunc                                NA\n",
      "netCDF4                                     1.6.0\n",
      "numba                                       0.55.2\n",
      "numpy                                       1.22.4\n",
      "opt_einsum                                  v3.3.0\n",
      "packaging                                   21.3\n",
      "pandas                                      1.4.3\n",
      "parso                                       0.8.3\n",
      "patsy                                       0.5.2\n",
      "pexpect                                     4.8.0\n",
      "pickleshare                                 0.7.5\n",
      "pkg_resources                               NA\n",
      "prompt_toolkit                              3.0.30\n",
      "psutil                                      5.9.1\n",
      "ptyprocess                                  0.7.0\n",
      "pure_eval                                   0.2.2\n",
      "pydev_ipython                               NA\n",
      "pydevconsole                                NA\n",
      "pydevd                                      2.8.0\n",
      "pydevd_file_utils                           NA\n",
      "pydevd_plugins                              NA\n",
      "pydevd_tracing                              NA\n",
      "pygments                                    2.12.0\n",
      "pyparsing                                   3.0.9\n",
      "pytz                                        2022.1\n",
      "requests                                    2.28.1\n",
      "sccoda                                      0.1.8\n",
      "scipy                                       1.8.1\n",
      "seaborn                                     0.11.2\n",
      "session_info                                1.0.0\n",
      "setuptools                                  61.2.0\n",
      "six                                         1.16.0\n",
      "sklearn                                     1.1.1\n",
      "stack_data                                  0.3.0\n",
      "statsmodels                                 0.13.2\n",
      "tensorboard                                 2.9.1\n",
      "tensorflow                                  2.9.1\n",
      "tensorflow_probability                      0.17.0\n",
      "termcolor                                   1.1.0\n",
      "threadpoolctl                               3.1.0\n",
      "tornado                                     6.1\n",
      "traitlets                                   5.3.0\n",
      "tree                                        0.1.7\n",
      "typing_extensions                           NA\n",
      "urllib3                                     1.26.9\n",
      "wcwidth                                     0.2.5\n",
      "wrapt                                       1.14.1\n",
      "xarray                                      2022.3.0\n",
      "xarray_einstats                             0.3.0\n",
      "zipp                                        NA\n",
      "zmq                                         23.2.0\n",
      "-----\n",
      "IPython             8.4.0\n",
      "jupyter_client      7.3.4\n",
      "jupyter_core        4.10.0\n",
      "jupyterlab          3.4.3\n",
      "notebook            6.4.12\n",
      "-----\n",
      "Python 3.8.13 (default, Mar 28 2022, 11:38:47) [GCC 7.5.0]\n",
      "Linux-3.10.0-1160.42.2.el7.x86_64-x86_64-with-glibc2.17\n",
      "-----\n",
      "Session information updated at 2022-07-05 14:12\n"
     ]
    }
   ],
   "source": [
    "# in-house/developing modules\n",
    "# tools modules\n",
    "import scanpy as sc\n",
    "import matplotlib.pyplot as plt\n",
    "import numpy as np\n",
    "import pandas as pd\n",
    "import pickle as pkl\n",
    "from sccoda.util import comp_ana as mod\n",
    "from sccoda.util import cell_composition_data as dat\n",
    "from sccoda.util import data_visualization as viz\n",
    "sc.logging.print_versions()"
   ]
  },
  {
   "cell_type": "code",
   "execution_count": 3,
   "id": "81c78c43",
   "metadata": {},
   "outputs": [],
   "source": [
    "# setting visualisation parameters\n",
    "sc.settings.set_figure_params(dpi=200, frameon=False)\n",
    "sc.set_figure_params(dpi=200)\n",
    "sc.set_figure_params(figsize=(10, 10))"
   ]
  },
  {
   "cell_type": "code",
   "execution_count": 4,
   "id": "8a31e278",
   "metadata": {},
   "outputs": [],
   "source": [
    "# temporary lines - remove after placing file in the right folder\n",
    "project_dir = \"/mnt/BioAdHoc/Groups/vd-vijay/ciro/asthma_airways/results/compositional\"\n",
    "os.chdir(project_dir)"
   ]
  },
  {
   "cell_type": "code",
   "execution_count": 5,
   "id": "91bcdcf5",
   "metadata": {},
   "outputs": [
    {
     "name": "stdout",
     "output_type": "stream",
     "text": [
      "Environment: conda3/envs/sccoda_0.1.8/lib/python3.8/os.py\n",
      "Working at: compositional\n"
     ]
    }
   ],
   "source": [
    "print(\"Working at:\\n\" + os.getcwd()); time.sleep(3); clear_output()\n",
    "print(\"Environment:\", re.sub('.*conda', 'conda', os.__file__));\n",
    "print(\"Working at:\", os.path.basename(os.getcwd()))"
   ]
  },
  {
   "cell_type": "code",
   "execution_count": 6,
   "id": "f6da4f34",
   "metadata": {},
   "outputs": [
    {
     "name": "stdout",
     "output_type": "stream",
     "text": [
      "No pretty code for us today\n"
     ]
    }
   ],
   "source": [
    "spam_spec = importlib.util.find_spec(\"load_ext\")\n",
    "if spam_spec is not None:\n",
    "    %load_ext autoreload\n",
    "    %autoreload 2\n",
    "    %load_ext lab_black\n",
    "else:\n",
    "    print(\"No pretty code for us today\")"
   ]
  },
  {
   "cell_type": "markdown",
   "id": "a37d86a1",
   "metadata": {},
   "source": [
    "### Global variables and paths"
   ]
  },
  {
   "cell_type": "code",
   "execution_count": 7,
   "id": "5f2cf36e",
   "metadata": {},
   "outputs": [],
   "source": [
    "adata_f = \"/home/fcastaneda/fcastaneda/rnaseq-sc-standar/Rebuttal_CD4/results/cellrank/anndata_states_infi_fatemaps.h5ad\""
   ]
  },
  {
   "cell_type": "markdown",
   "id": "f3132d49",
   "metadata": {},
   "source": [
    "### Loading data"
   ]
  },
  {
   "cell_type": "code",
   "execution_count": 8,
   "id": "7149b44f",
   "metadata": {},
   "outputs": [],
   "source": [
    "adata = sc.read(adata_f)"
   ]
  },
  {
   "cell_type": "code",
   "execution_count": 9,
   "id": "07f93b16",
   "metadata": {},
   "outputs": [
    {
     "data": {
      "text/plain": [
       "AnnData object with n_obs × n_vars = 27358 × 2000\n",
       "    obs: 'orig.ident', 'nCount_RNA', 'nFeature_RNA', 'orig.0.4', 'orig.0.6', 'RD.TOTL', 'RD.PASS', 'RD.UNIQ', 'N.SNP', 'BEST', 'SNG.1ST', 'SNG.LLK1', 'SNG.2ND', 'SNG.LLK2', 'SNG.LLK0', 'DBL.1ST', 'DBL.2ND', 'ALPHA', 'LLK12', 'LLK1', 'LLK2', 'LLK10', 'LLK20', 'LLK00', 'PRB.DBL', 'PRB.SNG1', 'origlib', 'orig.class', 'orig.donor', 'cell_id', 'orig.batch', 'orig.stim', 'orig.asthma', 'orig.cell_type', 'Donor_ID', 'Init', 'orig.Sex', 'AgeEnrol', 'AgeBronc', 'BMIhist', 'BMI', 'orig.Smoking', 'AsGroup', 'AsPheno', 'GINA_Step', 'T2highInflam', 'T2highInflam10Y', 'AgeDiagnosis', 'AgeDiagnosisGroup', 'orig.OnsetLToE18Y', 'AsDurationEnrol', 'ICU_Adm', 'Hospital_Admissions_12M', 'OCS_12M', 'OCS_UseMg', 'Treatment', 'AtopySkin', 'IgE_IUpL_ML6M', 'BlEos1BpLBronc', 'BlEosCurrent1BpL3M', 'MaxBlEos1BpL10Y', 'FeNOppbEnrol', 'PreBD_FEV1L', 'PreBD_FEV1pctPred', 'PreBD_FVC_L', 'PreBD_FVCpctPred', 'PreBD_FEV1vsFVCpct', 'PreBD_FEF25to75pctPred', 'PostBD_FEV1L', 'PostBD_FEV1pctPred', 'PostBD_FVC_L', 'PostBD_FVCpctPred', 'PostBD_FEV1vsFVCpct', 'PostBD_FEF25to75pctPRed', 'BALVolML', 'BAL_LiveCell1M', 'Rhinitis', 'GastroOesophReflux', 'ObesityGT30', 'DysfuncBreathing', 'DeprOAnx', 'Eczema', 'SalicylateSensitivity', 'ACQ6Score', 'SNOT22Score', 'HullCoughHypersenScore', 'NjimegenScore', 'HADSScore', 'HADSAnCompScore', 'HADSDepCompScore', 'Epworth.Sleepiness.Score', 'MARS.Score', 'percent.mt', 'RNA_snn_res.0.4', 'RNA_snn_res.0.6', 'seurat_clusters', 'cluster', 'celltype_subset', 'cluster.celltype_subset', 'cluster_disease', 'UMAP_1', 'UMAP_2', 'cell_name', 'clusters', 'initial_size_spliced', 'initial_size_unspliced', 'initial_size', 'n_counts', 'velocity_self_transition', 'velocity_length', 'velocity_confidence', 'velocity_confidence_transition', 'root_cells', 'end_points', 'velocity_pseudotime', 'latent_time', 'clusters_gradients', 'terminal_states', 'terminal_states_probs', 'initial_states', 'initial_states_probs'\n",
       "    var: 'Accession', 'Chromosome', 'End', 'Start', 'Strand', 'gene_count_corr', 'means', 'dispersions', 'dispersions_norm', 'highly_variable', 'fit_r2', 'fit_alpha', 'fit_beta', 'fit_gamma', 'fit_t_', 'fit_scaling', 'fit_std_u', 'fit_std_s', 'fit_likelihood', 'fit_u0', 'fit_s0', 'fit_pval_steady', 'fit_steady_u', 'fit_steady_s', 'fit_variance', 'fit_alignment_scaling', 'velocity_genes'\n",
       "    obsm: 'X_pca', 'X_umap', 'schur_vectors_fwd', 'velocity_umap'"
      ]
     },
     "execution_count": 9,
     "metadata": {},
     "output_type": "execute_result"
    }
   ],
   "source": [
    "adata"
   ]
  },
  {
   "cell_type": "markdown",
   "id": "c9c6d341",
   "metadata": {},
   "source": [
    "### Pre-processing"
   ]
  },
  {
   "cell_type": "code",
   "execution_count": 10,
   "id": "7fb1928b",
   "metadata": {},
   "outputs": [
    {
     "data": {
      "text/html": [
       "<div>\n",
       "<style scoped>\n",
       "    .dataframe tbody tr th:only-of-type {\n",
       "        vertical-align: middle;\n",
       "    }\n",
       "\n",
       "    .dataframe tbody tr th {\n",
       "        vertical-align: top;\n",
       "    }\n",
       "\n",
       "    .dataframe thead th {\n",
       "        text-align: right;\n",
       "    }\n",
       "</style>\n",
       "<table border=\"1\" class=\"dataframe\">\n",
       "  <thead>\n",
       "    <tr style=\"text-align: right;\">\n",
       "      <th>cluster.celltype_subset</th>\n",
       "      <th>0: TRMDP</th>\n",
       "      <th>1: TRMSP</th>\n",
       "      <th>2: TCM</th>\n",
       "      <th>3: Treg</th>\n",
       "      <th>4: TFH</th>\n",
       "      <th>5: ThIFNr</th>\n",
       "      <th>7: CellCycle</th>\n",
       "      <th>8: CTLs</th>\n",
       "      <th>Donor_condition</th>\n",
       "    </tr>\n",
       "  </thead>\n",
       "  <tbody>\n",
       "    <tr>\n",
       "      <th>0</th>\n",
       "      <td>212</td>\n",
       "      <td>862</td>\n",
       "      <td>177</td>\n",
       "      <td>57</td>\n",
       "      <td>32</td>\n",
       "      <td>54</td>\n",
       "      <td>5</td>\n",
       "      <td>2</td>\n",
       "      <td>NIHMA_206_MA</td>\n",
       "    </tr>\n",
       "    <tr>\n",
       "      <th>1</th>\n",
       "      <td>71</td>\n",
       "      <td>722</td>\n",
       "      <td>358</td>\n",
       "      <td>117</td>\n",
       "      <td>76</td>\n",
       "      <td>75</td>\n",
       "      <td>9</td>\n",
       "      <td>19</td>\n",
       "      <td>NIHMA_225_MA</td>\n",
       "    </tr>\n",
       "    <tr>\n",
       "      <th>2</th>\n",
       "      <td>129</td>\n",
       "      <td>1154</td>\n",
       "      <td>307</td>\n",
       "      <td>48</td>\n",
       "      <td>40</td>\n",
       "      <td>32</td>\n",
       "      <td>3</td>\n",
       "      <td>1</td>\n",
       "      <td>NIHMA_226_MA</td>\n",
       "    </tr>\n",
       "    <tr>\n",
       "      <th>3</th>\n",
       "      <td>23</td>\n",
       "      <td>33</td>\n",
       "      <td>11</td>\n",
       "      <td>11</td>\n",
       "      <td>6</td>\n",
       "      <td>8</td>\n",
       "      <td>16</td>\n",
       "      <td>2</td>\n",
       "      <td>NIHMA_228_MA</td>\n",
       "    </tr>\n",
       "    <tr>\n",
       "      <th>4</th>\n",
       "      <td>94</td>\n",
       "      <td>920</td>\n",
       "      <td>399</td>\n",
       "      <td>118</td>\n",
       "      <td>23</td>\n",
       "      <td>75</td>\n",
       "      <td>14</td>\n",
       "      <td>12</td>\n",
       "      <td>NIHMA_244_MA</td>\n",
       "    </tr>\n",
       "    <tr>\n",
       "      <th>5</th>\n",
       "      <td>507</td>\n",
       "      <td>434</td>\n",
       "      <td>339</td>\n",
       "      <td>34</td>\n",
       "      <td>112</td>\n",
       "      <td>13</td>\n",
       "      <td>42</td>\n",
       "      <td>31</td>\n",
       "      <td>NIHMA_245_MA</td>\n",
       "    </tr>\n",
       "    <tr>\n",
       "      <th>6</th>\n",
       "      <td>1493</td>\n",
       "      <td>355</td>\n",
       "      <td>303</td>\n",
       "      <td>102</td>\n",
       "      <td>307</td>\n",
       "      <td>43</td>\n",
       "      <td>57</td>\n",
       "      <td>69</td>\n",
       "      <td>NIHMA_246_MA</td>\n",
       "    </tr>\n",
       "    <tr>\n",
       "      <th>7</th>\n",
       "      <td>77</td>\n",
       "      <td>1319</td>\n",
       "      <td>278</td>\n",
       "      <td>90</td>\n",
       "      <td>27</td>\n",
       "      <td>59</td>\n",
       "      <td>26</td>\n",
       "      <td>4</td>\n",
       "      <td>NIHMA_249_MA</td>\n",
       "    </tr>\n",
       "    <tr>\n",
       "      <th>8</th>\n",
       "      <td>873</td>\n",
       "      <td>515</td>\n",
       "      <td>173</td>\n",
       "      <td>53</td>\n",
       "      <td>20</td>\n",
       "      <td>69</td>\n",
       "      <td>35</td>\n",
       "      <td>4</td>\n",
       "      <td>NIHMA_254_MA</td>\n",
       "    </tr>\n",
       "    <tr>\n",
       "      <th>9</th>\n",
       "      <td>17</td>\n",
       "      <td>54</td>\n",
       "      <td>101</td>\n",
       "      <td>106</td>\n",
       "      <td>13</td>\n",
       "      <td>11</td>\n",
       "      <td>1</td>\n",
       "      <td>14</td>\n",
       "      <td>NIHW_00011_SA</td>\n",
       "    </tr>\n",
       "    <tr>\n",
       "      <th>10</th>\n",
       "      <td>528</td>\n",
       "      <td>261</td>\n",
       "      <td>54</td>\n",
       "      <td>40</td>\n",
       "      <td>41</td>\n",
       "      <td>25</td>\n",
       "      <td>10</td>\n",
       "      <td>1</td>\n",
       "      <td>NIHW_00046_SA</td>\n",
       "    </tr>\n",
       "    <tr>\n",
       "      <th>11</th>\n",
       "      <td>1263</td>\n",
       "      <td>271</td>\n",
       "      <td>115</td>\n",
       "      <td>109</td>\n",
       "      <td>177</td>\n",
       "      <td>68</td>\n",
       "      <td>54</td>\n",
       "      <td>26</td>\n",
       "      <td>NIHW_00060_SA</td>\n",
       "    </tr>\n",
       "    <tr>\n",
       "      <th>12</th>\n",
       "      <td>943</td>\n",
       "      <td>137</td>\n",
       "      <td>96</td>\n",
       "      <td>75</td>\n",
       "      <td>34</td>\n",
       "      <td>125</td>\n",
       "      <td>29</td>\n",
       "      <td>2</td>\n",
       "      <td>NIHW_00070_SA</td>\n",
       "    </tr>\n",
       "    <tr>\n",
       "      <th>13</th>\n",
       "      <td>902</td>\n",
       "      <td>229</td>\n",
       "      <td>124</td>\n",
       "      <td>35</td>\n",
       "      <td>16</td>\n",
       "      <td>85</td>\n",
       "      <td>17</td>\n",
       "      <td>14</td>\n",
       "      <td>NIHW_00150_SA</td>\n",
       "    </tr>\n",
       "    <tr>\n",
       "      <th>14</th>\n",
       "      <td>61</td>\n",
       "      <td>126</td>\n",
       "      <td>89</td>\n",
       "      <td>24</td>\n",
       "      <td>9</td>\n",
       "      <td>11</td>\n",
       "      <td>8</td>\n",
       "      <td>3</td>\n",
       "      <td>NIHW_00304_SA</td>\n",
       "    </tr>\n",
       "    <tr>\n",
       "      <th>15</th>\n",
       "      <td>17</td>\n",
       "      <td>20</td>\n",
       "      <td>8</td>\n",
       "      <td>0</td>\n",
       "      <td>4</td>\n",
       "      <td>1</td>\n",
       "      <td>0</td>\n",
       "      <td>6</td>\n",
       "      <td>NIHW_00334_SA</td>\n",
       "    </tr>\n",
       "    <tr>\n",
       "      <th>16</th>\n",
       "      <td>17</td>\n",
       "      <td>99</td>\n",
       "      <td>33</td>\n",
       "      <td>12</td>\n",
       "      <td>4</td>\n",
       "      <td>5</td>\n",
       "      <td>2</td>\n",
       "      <td>12</td>\n",
       "      <td>NIHW_00352_SA</td>\n",
       "    </tr>\n",
       "    <tr>\n",
       "      <th>17</th>\n",
       "      <td>730</td>\n",
       "      <td>78</td>\n",
       "      <td>65</td>\n",
       "      <td>12</td>\n",
       "      <td>148</td>\n",
       "      <td>15</td>\n",
       "      <td>17</td>\n",
       "      <td>2</td>\n",
       "      <td>NIHW_00356_SA</td>\n",
       "    </tr>\n",
       "    <tr>\n",
       "      <th>18</th>\n",
       "      <td>444</td>\n",
       "      <td>425</td>\n",
       "      <td>296</td>\n",
       "      <td>52</td>\n",
       "      <td>17</td>\n",
       "      <td>19</td>\n",
       "      <td>10</td>\n",
       "      <td>20</td>\n",
       "      <td>NIHW_00361_SA</td>\n",
       "    </tr>\n",
       "    <tr>\n",
       "      <th>19</th>\n",
       "      <td>24</td>\n",
       "      <td>80</td>\n",
       "      <td>103</td>\n",
       "      <td>47</td>\n",
       "      <td>17</td>\n",
       "      <td>17</td>\n",
       "      <td>1</td>\n",
       "      <td>9</td>\n",
       "      <td>NIHW_00362_SA</td>\n",
       "    </tr>\n",
       "    <tr>\n",
       "      <th>20</th>\n",
       "      <td>568</td>\n",
       "      <td>70</td>\n",
       "      <td>39</td>\n",
       "      <td>5</td>\n",
       "      <td>8</td>\n",
       "      <td>30</td>\n",
       "      <td>5</td>\n",
       "      <td>9</td>\n",
       "      <td>NIHW_00364_SA</td>\n",
       "    </tr>\n",
       "    <tr>\n",
       "      <th>21</th>\n",
       "      <td>230</td>\n",
       "      <td>19</td>\n",
       "      <td>10</td>\n",
       "      <td>6</td>\n",
       "      <td>3</td>\n",
       "      <td>4</td>\n",
       "      <td>2</td>\n",
       "      <td>1</td>\n",
       "      <td>NIHW_00367_SA</td>\n",
       "    </tr>\n",
       "    <tr>\n",
       "      <th>22</th>\n",
       "      <td>995</td>\n",
       "      <td>165</td>\n",
       "      <td>70</td>\n",
       "      <td>14</td>\n",
       "      <td>16</td>\n",
       "      <td>9</td>\n",
       "      <td>24</td>\n",
       "      <td>0</td>\n",
       "      <td>NIHW_00386_SA</td>\n",
       "    </tr>\n",
       "    <tr>\n",
       "      <th>23</th>\n",
       "      <td>54</td>\n",
       "      <td>131</td>\n",
       "      <td>63</td>\n",
       "      <td>20</td>\n",
       "      <td>13</td>\n",
       "      <td>0</td>\n",
       "      <td>4</td>\n",
       "      <td>23</td>\n",
       "      <td>NIHW_00398_SA</td>\n",
       "    </tr>\n",
       "    <tr>\n",
       "      <th>24</th>\n",
       "      <td>858</td>\n",
       "      <td>124</td>\n",
       "      <td>40</td>\n",
       "      <td>19</td>\n",
       "      <td>39</td>\n",
       "      <td>23</td>\n",
       "      <td>9</td>\n",
       "      <td>4</td>\n",
       "      <td>NIHW_00419_SA</td>\n",
       "    </tr>\n",
       "  </tbody>\n",
       "</table>\n",
       "</div>"
      ],
      "text/plain": [
       "cluster.celltype_subset  0: TRMDP  1: TRMSP  2: TCM  3: Treg  4: TFH  \\\n",
       "0                             212       862     177       57      32   \n",
       "1                              71       722     358      117      76   \n",
       "2                             129      1154     307       48      40   \n",
       "3                              23        33      11       11       6   \n",
       "4                              94       920     399      118      23   \n",
       "5                             507       434     339       34     112   \n",
       "6                            1493       355     303      102     307   \n",
       "7                              77      1319     278       90      27   \n",
       "8                             873       515     173       53      20   \n",
       "9                              17        54     101      106      13   \n",
       "10                            528       261      54       40      41   \n",
       "11                           1263       271     115      109     177   \n",
       "12                            943       137      96       75      34   \n",
       "13                            902       229     124       35      16   \n",
       "14                             61       126      89       24       9   \n",
       "15                             17        20       8        0       4   \n",
       "16                             17        99      33       12       4   \n",
       "17                            730        78      65       12     148   \n",
       "18                            444       425     296       52      17   \n",
       "19                             24        80     103       47      17   \n",
       "20                            568        70      39        5       8   \n",
       "21                            230        19      10        6       3   \n",
       "22                            995       165      70       14      16   \n",
       "23                             54       131      63       20      13   \n",
       "24                            858       124      40       19      39   \n",
       "\n",
       "cluster.celltype_subset  5: ThIFNr  7: CellCycle  8: CTLs Donor_condition  \n",
       "0                               54             5        2    NIHMA_206_MA  \n",
       "1                               75             9       19    NIHMA_225_MA  \n",
       "2                               32             3        1    NIHMA_226_MA  \n",
       "3                                8            16        2    NIHMA_228_MA  \n",
       "4                               75            14       12    NIHMA_244_MA  \n",
       "5                               13            42       31    NIHMA_245_MA  \n",
       "6                               43            57       69    NIHMA_246_MA  \n",
       "7                               59            26        4    NIHMA_249_MA  \n",
       "8                               69            35        4    NIHMA_254_MA  \n",
       "9                               11             1       14   NIHW_00011_SA  \n",
       "10                              25            10        1   NIHW_00046_SA  \n",
       "11                              68            54       26   NIHW_00060_SA  \n",
       "12                             125            29        2   NIHW_00070_SA  \n",
       "13                              85            17       14   NIHW_00150_SA  \n",
       "14                              11             8        3   NIHW_00304_SA  \n",
       "15                               1             0        6   NIHW_00334_SA  \n",
       "16                               5             2       12   NIHW_00352_SA  \n",
       "17                              15            17        2   NIHW_00356_SA  \n",
       "18                              19            10       20   NIHW_00361_SA  \n",
       "19                              17             1        9   NIHW_00362_SA  \n",
       "20                              30             5        9   NIHW_00364_SA  \n",
       "21                               4             2        1   NIHW_00367_SA  \n",
       "22                               9            24        0   NIHW_00386_SA  \n",
       "23                               0             4       23   NIHW_00398_SA  \n",
       "24                              23             9        4   NIHW_00419_SA  "
      ]
     },
     "execution_count": 10,
     "metadata": {},
     "output_type": "execute_result"
    }
   ],
   "source": [
    "adata.obs['Donor_condition'] = adata.obs['orig.donor'].astype(str) + '_' + adata.obs['orig.asthma'].astype(str)\n",
    "cell_counts = pd.crosstab(adata.obs['Donor_condition'], adata.obs['cluster.celltype_subset'])\n",
    "cell_counts['Donor_condition'] = cell_counts.index.tolist()\n",
    "cell_counts.reset_index(drop=True, inplace=True)\n",
    "cell_counts"
   ]
  },
  {
   "cell_type": "code",
   "execution_count": 11,
   "id": "8600a70c",
   "metadata": {},
   "outputs": [
    {
     "name": "stdout",
     "output_type": "stream",
     "text": [
      "AnnData object with n_obs × n_vars = 25 × 8\n",
      "    obs: 'Donor_condition', 'Condition'\n"
     ]
    }
   ],
   "source": [
    "# Convert data to anndata object\n",
    "data_all = dat.from_pandas(cell_counts, covariate_columns=[\"Donor_condition\"])\n",
    "\n",
    "# Extract condition from mouse name and add it as an extra column to the covariates\n",
    "data_all.obs[\"Condition\"] = data_all.obs[\"Donor_condition\"].str.replace(r\".*_\", \"\")\n",
    "print(data_all)"
   ]
  },
  {
   "cell_type": "code",
   "execution_count": 12,
   "id": "9a5230aa",
   "metadata": {},
   "outputs": [
    {
     "data": {
      "text/html": [
       "<div>\n",
       "<style scoped>\n",
       "    .dataframe tbody tr th:only-of-type {\n",
       "        vertical-align: middle;\n",
       "    }\n",
       "\n",
       "    .dataframe tbody tr th {\n",
       "        vertical-align: top;\n",
       "    }\n",
       "\n",
       "    .dataframe thead th {\n",
       "        text-align: right;\n",
       "    }\n",
       "</style>\n",
       "<table border=\"1\" class=\"dataframe\">\n",
       "  <thead>\n",
       "    <tr style=\"text-align: right;\">\n",
       "      <th>cluster.celltype_subset</th>\n",
       "      <th>Donor_condition</th>\n",
       "      <th>Condition</th>\n",
       "    </tr>\n",
       "  </thead>\n",
       "  <tbody>\n",
       "    <tr>\n",
       "      <th>0</th>\n",
       "      <td>NIHMA_206_MA</td>\n",
       "      <td>MA</td>\n",
       "    </tr>\n",
       "    <tr>\n",
       "      <th>1</th>\n",
       "      <td>NIHMA_225_MA</td>\n",
       "      <td>MA</td>\n",
       "    </tr>\n",
       "    <tr>\n",
       "      <th>2</th>\n",
       "      <td>NIHMA_226_MA</td>\n",
       "      <td>MA</td>\n",
       "    </tr>\n",
       "    <tr>\n",
       "      <th>3</th>\n",
       "      <td>NIHMA_228_MA</td>\n",
       "      <td>MA</td>\n",
       "    </tr>\n",
       "    <tr>\n",
       "      <th>4</th>\n",
       "      <td>NIHMA_244_MA</td>\n",
       "      <td>MA</td>\n",
       "    </tr>\n",
       "    <tr>\n",
       "      <th>5</th>\n",
       "      <td>NIHMA_245_MA</td>\n",
       "      <td>MA</td>\n",
       "    </tr>\n",
       "    <tr>\n",
       "      <th>6</th>\n",
       "      <td>NIHMA_246_MA</td>\n",
       "      <td>MA</td>\n",
       "    </tr>\n",
       "    <tr>\n",
       "      <th>7</th>\n",
       "      <td>NIHMA_249_MA</td>\n",
       "      <td>MA</td>\n",
       "    </tr>\n",
       "    <tr>\n",
       "      <th>8</th>\n",
       "      <td>NIHMA_254_MA</td>\n",
       "      <td>MA</td>\n",
       "    </tr>\n",
       "    <tr>\n",
       "      <th>9</th>\n",
       "      <td>NIHW_00011_SA</td>\n",
       "      <td>SA</td>\n",
       "    </tr>\n",
       "    <tr>\n",
       "      <th>10</th>\n",
       "      <td>NIHW_00046_SA</td>\n",
       "      <td>SA</td>\n",
       "    </tr>\n",
       "    <tr>\n",
       "      <th>11</th>\n",
       "      <td>NIHW_00060_SA</td>\n",
       "      <td>SA</td>\n",
       "    </tr>\n",
       "    <tr>\n",
       "      <th>12</th>\n",
       "      <td>NIHW_00070_SA</td>\n",
       "      <td>SA</td>\n",
       "    </tr>\n",
       "    <tr>\n",
       "      <th>13</th>\n",
       "      <td>NIHW_00150_SA</td>\n",
       "      <td>SA</td>\n",
       "    </tr>\n",
       "    <tr>\n",
       "      <th>14</th>\n",
       "      <td>NIHW_00304_SA</td>\n",
       "      <td>SA</td>\n",
       "    </tr>\n",
       "    <tr>\n",
       "      <th>15</th>\n",
       "      <td>NIHW_00334_SA</td>\n",
       "      <td>SA</td>\n",
       "    </tr>\n",
       "    <tr>\n",
       "      <th>16</th>\n",
       "      <td>NIHW_00352_SA</td>\n",
       "      <td>SA</td>\n",
       "    </tr>\n",
       "    <tr>\n",
       "      <th>17</th>\n",
       "      <td>NIHW_00356_SA</td>\n",
       "      <td>SA</td>\n",
       "    </tr>\n",
       "    <tr>\n",
       "      <th>18</th>\n",
       "      <td>NIHW_00361_SA</td>\n",
       "      <td>SA</td>\n",
       "    </tr>\n",
       "    <tr>\n",
       "      <th>19</th>\n",
       "      <td>NIHW_00362_SA</td>\n",
       "      <td>SA</td>\n",
       "    </tr>\n",
       "    <tr>\n",
       "      <th>20</th>\n",
       "      <td>NIHW_00364_SA</td>\n",
       "      <td>SA</td>\n",
       "    </tr>\n",
       "    <tr>\n",
       "      <th>21</th>\n",
       "      <td>NIHW_00367_SA</td>\n",
       "      <td>SA</td>\n",
       "    </tr>\n",
       "    <tr>\n",
       "      <th>22</th>\n",
       "      <td>NIHW_00386_SA</td>\n",
       "      <td>SA</td>\n",
       "    </tr>\n",
       "    <tr>\n",
       "      <th>23</th>\n",
       "      <td>NIHW_00398_SA</td>\n",
       "      <td>SA</td>\n",
       "    </tr>\n",
       "    <tr>\n",
       "      <th>24</th>\n",
       "      <td>NIHW_00419_SA</td>\n",
       "      <td>SA</td>\n",
       "    </tr>\n",
       "  </tbody>\n",
       "</table>\n",
       "</div>"
      ],
      "text/plain": [
       "cluster.celltype_subset Donor_condition Condition\n",
       "0                          NIHMA_206_MA        MA\n",
       "1                          NIHMA_225_MA        MA\n",
       "2                          NIHMA_226_MA        MA\n",
       "3                          NIHMA_228_MA        MA\n",
       "4                          NIHMA_244_MA        MA\n",
       "5                          NIHMA_245_MA        MA\n",
       "6                          NIHMA_246_MA        MA\n",
       "7                          NIHMA_249_MA        MA\n",
       "8                          NIHMA_254_MA        MA\n",
       "9                         NIHW_00011_SA        SA\n",
       "10                        NIHW_00046_SA        SA\n",
       "11                        NIHW_00060_SA        SA\n",
       "12                        NIHW_00070_SA        SA\n",
       "13                        NIHW_00150_SA        SA\n",
       "14                        NIHW_00304_SA        SA\n",
       "15                        NIHW_00334_SA        SA\n",
       "16                        NIHW_00352_SA        SA\n",
       "17                        NIHW_00356_SA        SA\n",
       "18                        NIHW_00361_SA        SA\n",
       "19                        NIHW_00362_SA        SA\n",
       "20                        NIHW_00364_SA        SA\n",
       "21                        NIHW_00367_SA        SA\n",
       "22                        NIHW_00386_SA        SA\n",
       "23                        NIHW_00398_SA        SA\n",
       "24                        NIHW_00419_SA        SA"
      ]
     },
     "execution_count": 12,
     "metadata": {},
     "output_type": "execute_result"
    }
   ],
   "source": [
    "data_all.obs"
   ]
  },
  {
   "cell_type": "code",
   "execution_count": 13,
   "id": "78f5721b",
   "metadata": {},
   "outputs": [
    {
     "data": {
      "image/png": "[encoded data removed]",
      "text/plain": [
       "<Figure size 1000x1000 with 1 Axes>"
      ]
     },
     "metadata": {
      "image/png": {
       "height": 977,
       "width": 977
      },
      "needs_background": "light"
     },
     "output_type": "display_data"
    }
   ],
   "source": [
    "viz.boxplots(data_all, feature_name=\"Condition\")\n",
    "plt.savefig('sccoda_boxplot.pdf', bbox_inches='tight')\n",
    "plt.show()"
   ]
  },
  {
   "cell_type": "markdown",
   "id": "461e658d",
   "metadata": {},
   "source": [
    "### Main"
   ]
  },
  {
   "cell_type": "markdown",
   "id": "a48e0a0e",
   "metadata": {},
   "source": [
    "#### Create the model"
   ]
  },
  {
   "cell_type": "markdown",
   "id": "016d8c55",
   "metadata": {},
   "source": [
    "And run inference on it."
   ]
  },
  {
   "cell_type": "code",
   "execution_count": 14,
   "id": "7a1f52cf",
   "metadata": {},
   "outputs": [
    {
     "name": "stdout",
     "output_type": "stream",
     "text": [
      "Automatic reference selection! Reference cell type set to 5: ThIFNr\n",
      "Zero counts encountered in data! Added a pseudocount of 0.5.\n"
     ]
    },
    {
     "name": "stderr",
     "output_type": "stream",
     "text": [
      "2022-07-05 14:14:06.331507: W tensorflow/stream_executor/platform/default/dso_loader.cc:64] Could not load dynamic library 'libcuda.so.1'; dlerror: libcuda.so.1: cannot open shared object file: No such file or directory; LD_LIBRARY_PATH: :/share/apps/gcc/6.3/lib64:/share/apps/libs/boost/boost_1_63_0/lib:/share/apps/moab/lib:/share/apps/openmpi/4.0.3/lib:/mnt/BioHome/ciro/bin/fftw-3.3.8\n",
      "2022-07-05 14:14:06.331561: W tensorflow/stream_executor/cuda/cuda_driver.cc:269] failed call to cuInit: UNKNOWN ERROR (303)\n",
      "2022-07-05 14:14:06.331594: I tensorflow/stream_executor/cuda/cuda_diagnostics.cc:156] kernel driver does not appear to be running on this host (herman-login2.hpc.lji.org): /proc/driver/nvidia/version does not exist\n",
      "2022-07-05 14:14:06.336594: I tensorflow/core/platform/cpu_feature_guard.cc:193] This TensorFlow binary is optimized with oneAPI Deep Neural Network Library (oneDNN) to use the following CPU instructions in performance-critical operations:  AVX2 FMA\n",
      "To enable them in other operations, rebuild TensorFlow with the appropriate compiler flags.\n"
     ]
    }
   ],
   "source": [
    "model_all = mod.CompositionalAnalysis(data_all, formula=\"Condition\", reference_cell_type=\"automatic\")"
   ]
  },
  {
   "cell_type": "markdown",
   "id": "84338216",
   "metadata": {},
   "source": [
    "HMC sampling is then initiated."
   ]
  },
  {
   "cell_type": "code",
   "execution_count": 16,
   "id": "63b8e276-471e-4133-9525-de536be24a25",
   "metadata": {},
   "outputs": [
    {
     "name": "stderr",
     "output_type": "stream",
     "text": [
      "2022-07-05 14:15:06.240424: I tensorflow/compiler/xla/service/service.cc:170] XLA service 0x2aed10014810 initialized for platform Host (this does not guarantee that XLA will be used). Devices:\n",
      "2022-07-05 14:15:06.240473: I tensorflow/compiler/xla/service/service.cc:178]   StreamExecutor device (0): Host, Default Version\n",
      "  0%|                                                                                                                                          | 0/20000 [00:00<?, ?it/s]2022-07-05 14:15:06.327980: I tensorflow/compiler/mlir/tensorflow/utils/dump_mlir_util.cc:263] disabling MLIR crash reproducer, set env var `MLIR_CRASH_REPRODUCER_DIRECTORY` to enable.\n",
      "2022-07-05 14:15:07.495530: I tensorflow/compiler/jit/xla_compilation_cache.cc:478] Compiled cluster using XLA!  This line is logged at most once for the lifetime of the process.\n",
      "100%|█████████████████████████████████████████████████████████████████████████████████████████████████████████████████████████████| 20000/20000 [02:47<00:00, 119.46it/s]\n"
     ]
    },
    {
     "name": "stdout",
     "output_type": "stream",
     "text": [
      "MCMC sampling finished. (213.475 sec)\n",
      "Acceptance rate: 60.6%\n"
     ]
    }
   ],
   "source": [
    "# Run MCMC\n",
    "sim_results = model_all.sample_hmc()"
   ]
  },
  {
   "cell_type": "markdown",
   "id": "6ed040d9",
   "metadata": {},
   "source": [
    "#### Interpretation"
   ]
  },
  {
   "cell_type": "markdown",
   "id": "e6c4f10c",
   "metadata": {},
   "source": [
    "Intercepts show how the cell types are distributed without any active covariates. Effects show how the covariates influence the cell types."
   ]
  },
  {
   "cell_type": "code",
   "execution_count": 17,
   "id": "95c12ff6",
   "metadata": {},
   "outputs": [
    {
     "name": "stdout",
     "output_type": "stream",
     "text": [
      "Compositional Analysis summary:\n",
      "\n",
      "Data: 25 samples, 8 cell types\n",
      "Reference index: 5\n",
      "Formula: Condition\n",
      "\n",
      "Intercepts:\n",
      "              Final Parameter  Expected Sample\n",
      "Cell Type                                     \n",
      "0: TRMDP                0.899       205.052448\n",
      "1: TRMSP                1.654       436.271952\n",
      "2: TCM                  0.763       178.978519\n",
      "3: Treg                -0.085        76.651241\n",
      "4: TFH                 -0.251        64.927145\n",
      "5: ThIFNr              -0.356        58.455501\n",
      "7: CellCycle           -0.722        40.539053\n",
      "8: CTLs                -0.912        33.524141\n",
      "\n",
      "\n",
      "Effects:\n",
      "                              Final Parameter  Expected Sample  \\\n",
      "Covariate       Cell Type                                        \n",
      "Condition[T.SA] 0: TRMDP                  0.0       205.052448   \n",
      "                1: TRMSP                  0.0       436.271952   \n",
      "                2: TCM                    0.0       178.978519   \n",
      "                3: Treg                   0.0        76.651241   \n",
      "                4: TFH                    0.0        64.927145   \n",
      "                5: ThIFNr                 0.0        58.455501   \n",
      "                7: CellCycle              0.0        40.539053   \n",
      "                8: CTLs                   0.0        33.524141   \n",
      "\n",
      "                              log2-fold change  \n",
      "Covariate       Cell Type                       \n",
      "Condition[T.SA] 0: TRMDP                   0.0  \n",
      "                1: TRMSP                   0.0  \n",
      "                2: TCM                     0.0  \n",
      "                3: Treg                    0.0  \n",
      "                4: TFH                     0.0  \n",
      "                5: ThIFNr                  0.0  \n",
      "                7: CellCycle               0.0  \n",
      "                8: CTLs                    0.0  \n"
     ]
    }
   ],
   "source": [
    "sim_results.summary()"
   ]
  },
  {
   "cell_type": "code",
   "execution_count": 18,
   "id": "3c881725",
   "metadata": {},
   "outputs": [
    {
     "name": "stdout",
     "output_type": "stream",
     "text": [
      "Covariate        Cell Type   \n",
      "Condition[T.SA]  0: TRMDP        False\n",
      "                 1: TRMSP        False\n",
      "                 2: TCM          False\n",
      "                 3: Treg         False\n",
      "                 4: TFH          False\n",
      "                 5: ThIFNr       False\n",
      "                 7: CellCycle    False\n",
      "                 8: CTLs         False\n",
      "Name: Final Parameter, dtype: bool\n"
     ]
    }
   ],
   "source": [
    "print(sim_results.credible_effects())"
   ]
  },
  {
   "cell_type": "markdown",
   "id": "86b9eee1",
   "metadata": {},
   "source": [
    "#### Adjusting the False discovery rate"
   ]
  },
  {
   "cell_type": "markdown",
   "id": "7e62aeae",
   "metadata": {},
   "source": [
    "Credible and non-credible effects depends on the false discovery rate (FDR). Default is 0.05 but we can increase it to be less conservative. We'll use 0.2 and 0.4 (the common threshold in medical science is 0.4)."
   ]
  },
  {
   "cell_type": "code",
   "execution_count": 24,
   "id": "7c64e104",
   "metadata": {},
   "outputs": [
    {
     "name": "stdout",
     "output_type": "stream",
     "text": [
      "Compositional Analysis summary:\n",
      "\n",
      "Data: 25 samples, 8 cell types\n",
      "Reference index: 5\n",
      "Formula: Condition\n",
      "\n",
      "Intercepts:\n",
      "              Final Parameter  Expected Sample\n",
      "Cell Type                                     \n",
      "0: TRMDP                0.899       205.052448\n",
      "1: TRMSP                1.654       436.271952\n",
      "2: TCM                  0.763       178.978519\n",
      "3: Treg                -0.085        76.651241\n",
      "4: TFH                 -0.251        64.927145\n",
      "5: ThIFNr              -0.356        58.455501\n",
      "7: CellCycle           -0.722        40.539053\n",
      "8: CTLs                -0.912        33.524141\n",
      "\n",
      "\n",
      "Effects:\n",
      "                              Final Parameter  Expected Sample  \\\n",
      "Covariate       Cell Type                                        \n",
      "Condition[T.SA] 0: TRMDP             0.676088       432.144988   \n",
      "                1: TRMSP            -0.679978       236.913479   \n",
      "                2: TCM              -0.319900       139.319942   \n",
      "                3: Treg             -0.118092        73.008837   \n",
      "                4: TFH              -0.032796        67.348269   \n",
      "                5: ThIFNr            0.000000        62.656837   \n",
      "                7: CellCycle         0.000000        43.452692   \n",
      "                8: CTLs              0.096018        39.554955   \n",
      "\n",
      "                              log2-fold change  \n",
      "Covariate       Cell Type                       \n",
      "Condition[T.SA] 0: TRMDP              1.075522  \n",
      "                1: TRMSP             -0.880867  \n",
      "                2: TCM               -0.361385  \n",
      "                3: Treg              -0.070238  \n",
      "                4: TFH                0.052819  \n",
      "                5: ThIFNr             0.100133  \n",
      "                7: CellCycle          0.100133  \n",
      "                8: CTLs               0.238658  \n"
     ]
    }
   ],
   "source": [
    "sim_results.set_fdr(est_fdr=0.4)\n",
    "sim_results.summary()"
   ]
  },
  {
   "cell_type": "code",
   "execution_count": 25,
   "id": "cc3c3e23",
   "metadata": {},
   "outputs": [
    {
     "name": "stdout",
     "output_type": "stream",
     "text": [
      "Covariate        Cell Type   \n",
      "Condition[T.SA]  0: TRMDP         True\n",
      "                 1: TRMSP         True\n",
      "                 2: TCM           True\n",
      "                 3: Treg          True\n",
      "                 4: TFH           True\n",
      "                 5: ThIFNr       False\n",
      "                 7: CellCycle    False\n",
      "                 8: CTLs          True\n",
      "Name: Final Parameter, dtype: bool\n"
     ]
    }
   ],
   "source": [
    "print(sim_results.credible_effects())"
   ]
  },
  {
   "cell_type": "markdown",
   "id": "a8fde73f-ff59-4959-8a8f-195478590ed2",
   "metadata": {},
   "source": [
    "Now let's check 0.2"
   ]
  },
  {
   "cell_type": "code",
   "execution_count": 26,
   "id": "fa010407-901e-4619-a36e-e26b86505e46",
   "metadata": {},
   "outputs": [
    {
     "name": "stdout",
     "output_type": "stream",
     "text": [
      "Compositional Analysis summary:\n",
      "\n",
      "Data: 25 samples, 8 cell types\n",
      "Reference index: 5\n",
      "Formula: Condition\n",
      "\n",
      "Intercepts:\n",
      "              Final Parameter  Expected Sample\n",
      "Cell Type                                     \n",
      "0: TRMDP                0.899       205.052448\n",
      "1: TRMSP                1.654       436.271952\n",
      "2: TCM                  0.763       178.978519\n",
      "3: Treg                -0.085        76.651241\n",
      "4: TFH                 -0.251        64.927145\n",
      "5: ThIFNr              -0.356        58.455501\n",
      "7: CellCycle           -0.722        40.539053\n",
      "8: CTLs                -0.912        33.524141\n",
      "\n",
      "\n",
      "Effects:\n",
      "                              Final Parameter  Expected Sample  \\\n",
      "Covariate       Cell Type                                        \n",
      "Condition[T.SA] 0: TRMDP             0.676088       429.096341   \n",
      "                1: TRMSP            -0.679978       235.242129   \n",
      "                2: TCM              -0.319900       138.337084   \n",
      "                3: Treg              0.000000        81.580733   \n",
      "                4: TFH               0.000000        69.102653   \n",
      "                5: ThIFNr            0.000000        62.214813   \n",
      "                7: CellCycle         0.000000        43.146147   \n",
      "                8: CTLs              0.000000        35.680100   \n",
      "\n",
      "                              log2-fold change  \n",
      "Covariate       Cell Type                       \n",
      "Condition[T.SA] 0: TRMDP              1.065309  \n",
      "                1: TRMSP             -0.891081  \n",
      "                2: TCM               -0.371598  \n",
      "                3: Treg               0.089919  \n",
      "                4: TFH                0.089919  \n",
      "                5: ThIFNr             0.089919  \n",
      "                7: CellCycle          0.089919  \n",
      "                8: CTLs               0.089919  \n"
     ]
    }
   ],
   "source": [
    "sim_results.set_fdr(est_fdr=0.2)\n",
    "sim_results.summary()"
   ]
  },
  {
   "cell_type": "code",
   "execution_count": 27,
   "id": "2f2b0e8e-e481-4f55-9fc6-e64f1d438442",
   "metadata": {},
   "outputs": [
    {
     "name": "stdout",
     "output_type": "stream",
     "text": [
      "Covariate        Cell Type   \n",
      "Condition[T.SA]  0: TRMDP         True\n",
      "                 1: TRMSP         True\n",
      "                 2: TCM           True\n",
      "                 3: Treg         False\n",
      "                 4: TFH          False\n",
      "                 5: ThIFNr       False\n",
      "                 7: CellCycle    False\n",
      "                 8: CTLs         False\n",
      "Name: Final Parameter, dtype: bool\n"
     ]
    }
   ],
   "source": [
    "print(sim_results.credible_effects())"
   ]
  },
  {
   "cell_type": "markdown",
   "id": "6a4bd8e5",
   "metadata": {
    "tags": []
   },
   "source": [
    "### Conclusions"
   ]
  },
  {
   "cell_type": "markdown",
   "id": "f2780d7f-addd-4e9f-ba46-dead55f3509d",
   "metadata": {},
   "source": [
    "So we have that with a 0.2 False Discovery Rate we see the two TRM clusters and TCM are differentially abundant."
   ]
  },
  {
   "cell_type": "markdown",
   "id": "11065c1c",
   "metadata": {},
   "source": [
    "### Save"
   ]
  },
  {
   "cell_type": "code",
   "execution_count": 29,
   "id": "4fd3f5b4",
   "metadata": {},
   "outputs": [],
   "source": [
    "# saving\n",
    "path = \"./model_result\"\n",
    "sim_results.save(path)"
   ]
  },
  {
   "cell_type": "code",
   "execution_count": 30,
   "id": "c5c31074",
   "metadata": {},
   "outputs": [
    {
     "name": "stdout",
     "output_type": "stream",
     "text": [
      "Compositional Analysis summary:\n",
      "\n",
      "Data: 25 samples, 8 cell types\n",
      "Reference index: 5\n",
      "Formula: Condition\n",
      "\n",
      "Intercepts:\n",
      "              Final Parameter  Expected Sample\n",
      "Cell Type                                     \n",
      "0: TRMDP                0.899       205.052448\n",
      "1: TRMSP                1.654       436.271952\n",
      "2: TCM                  0.763       178.978519\n",
      "3: Treg                -0.085        76.651241\n",
      "4: TFH                 -0.251        64.927145\n",
      "5: ThIFNr              -0.356        58.455501\n",
      "7: CellCycle           -0.722        40.539053\n",
      "8: CTLs                -0.912        33.524141\n",
      "\n",
      "\n",
      "Effects:\n",
      "                              Final Parameter  Expected Sample  \\\n",
      "Covariate       Cell Type                                        \n",
      "Condition[T.SA] 0: TRMDP             0.676088       429.096341   \n",
      "                1: TRMSP            -0.679978       235.242129   \n",
      "                2: TCM              -0.319900       138.337084   \n",
      "                3: Treg              0.000000        81.580733   \n",
      "                4: TFH               0.000000        69.102653   \n",
      "                5: ThIFNr            0.000000        62.214813   \n",
      "                7: CellCycle         0.000000        43.146147   \n",
      "                8: CTLs              0.000000        35.680100   \n",
      "\n",
      "                              log2-fold change  \n",
      "Covariate       Cell Type                       \n",
      "Condition[T.SA] 0: TRMDP              1.065309  \n",
      "                1: TRMSP             -0.891081  \n",
      "                2: TCM               -0.371598  \n",
      "                3: Treg               0.089919  \n",
      "                4: TFH                0.089919  \n",
      "                5: ThIFNr             0.089919  \n",
      "                7: CellCycle          0.089919  \n",
      "                8: CTLs               0.089919  \n"
     ]
    }
   ],
   "source": [
    "# loading\n",
    "with open(path, \"rb\") as f:\n",
    "    sim_results_2 = pkl.load(f)\n",
    "\n",
    "sim_results_2.summary()"
   ]
  },
  {
   "cell_type": "markdown",
   "id": "8ddb610f",
   "metadata": {},
   "source": [
    "And we check that it was saved correctly."
   ]
  }
 ],
 "metadata": {
  "kernelspec": {
   "display_name": "Python 3 (ipykernel)",
   "language": "python",
   "name": "python3"
  },
  "language_info": {
   "codemirror_mode": {
    "name": "ipython",
    "version": 3
   },
   "file_extension": ".py",
   "mimetype": "text/x-python",
   "name": "python",
   "nbconvert_exporter": "python",
   "pygments_lexer": "ipython3",
   "version": "3.8.13"
  }
 },
 "nbformat": 4,
 "nbformat_minor": 5
}
